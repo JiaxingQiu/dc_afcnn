{
 "cells": [
  {
   "cell_type": "markdown",
   "metadata": {
    "id": "b324395f"
   },
   "source": [
    "# AF classification from 9s ECG waveforms\n",
    "\n",
    "#### Jiaxing (Joy) Qiu\n",
    "\n",
    "\n",
    "\n",
    "Reference:\n",
    "https://physionet.org/content/challenge-2017/1.0.0/\n",
    "\n",
    "Objective:\n",
    "1. In real world application, given a \"10s\" ECG chart, the model aims to predict risk of AF outcome like a clinician does;\n",
    "2. Interpretable CNN -- comparing vertical / horizontal patterns in 10s ECGs from AF patients versus others.\n",
    "\n",
    "Data Description:\n",
    "- **data/REFERENCE.csv** contains outcome labels.\n",
    "- **data** folder contains data for this project.\n",
    "- **data/raw** subfolder contains raw physionet 2017 challenge in original matlab file format: 8528 single lead ECG recordings lasting from 9s to just over 60s. ECG recordings were sampled as 300 Hz, value unit is 0.1 millivolts\n",
    "\n",
    "- **data/image** subfolder contains image format dataset to develop image classifier on, they are engineered in this way --  \n",
    "    + train has 70%\n",
    "    + valid has 20%\n",
    "    + test has 10%\n",
    "\n"
   ]
  },
  {
   "cell_type": "code",
   "execution_count": null,
   "metadata": {
    "id": "72ddc85d"
   },
   "outputs": [],
   "source": [
    "import pandas as pd\n",
    "import numpy as np\n",
    "import random as rd\n",
    "import scipy.io\n",
    "import matplotlib.pyplot as plt\n",
    "import os\n",
    "from PIL import Image\n",
    "import re"
   ]
  },
  {
   "cell_type": "markdown",
   "metadata": {
    "id": "674f0415"
   },
   "source": [
    "### prepare file paths"
   ]
  },
  {
   "cell_type": "code",
   "execution_count": null,
   "metadata": {
    "id": "2447b4c5"
   },
   "outputs": [],
   "source": [
    "# original matlab file directory\n",
    "mat_path = './data/raw'\n",
    "# image file directory\n",
    "img_path = './data/image'\n",
    "if not os.path.exists(img_path):\n",
    "    os.mkdir(img_path)"
   ]
  },
  {
   "cell_type": "code",
   "execution_count": null,
   "metadata": {
    "id": "8b8a9f20",
    "outputId": "cf2fa6d0-4d06-4176-aa1a-77ee95b64f55"
   },
   "outputs": [
    {
     "name": "stdout",
     "output_type": "stream",
     "text": [
      "label  g    \n",
      "A      test       74\n",
      "       train     516\n",
      "       valid     148\n",
      "N      test      505\n",
      "       train    3535\n",
      "       valid    1010\n",
      "O      test      246\n",
      "       train    1719\n",
      "       valid     491\n",
      "~      test       29\n",
      "       train     198\n",
      "       valid      57\n",
      "Name: fin, dtype: int64\n"
     ]
    }
   ],
   "source": [
    "df = pd.read_csv('./data/REFERENCE.csv')\n",
    "def assign_train_valid_test(df):\n",
    "    #rd.seed(333)\n",
    "    train, valid, test = np.split(df.sample(frac=1, replace=False, random_state=333), [int(.7*len(df)), int(.9*len(df))])\n",
    "    df['g'] = \"train\"\n",
    "    df.loc[df['fin'].isin(train['fin'].tolist()), ['g']] = \"train\"\n",
    "    df.loc[df['fin'].isin(valid['fin'].tolist()), ['g']] = \"valid\"\n",
    "    df.loc[df['fin'].isin(test['fin'].tolist()), ['g']] = \"test\"\n",
    "    return df\n",
    "\n",
    "df_new = df.groupby(['label']).apply(assign_train_valid_test)\n",
    "print(df_new.groupby(['label','g'])['fin'].nunique())\n",
    "df_new.to_csv(\"./data/label.csv\") # save locally"
   ]
  },
  {
   "cell_type": "code",
   "execution_count": null,
   "metadata": {
    "id": "bfb7fb49"
   },
   "outputs": [],
   "source": [
    "fl = os.listdir(mat_path)\n",
    "fins = [re.sub(\".mat\",\"\",fin) for fin in fl if fin.endswith('.mat')]\n",
    "label = pd.read_csv(\"./data/label.csv\")"
   ]
  },
  {
   "cell_type": "code",
   "execution_count": null,
   "metadata": {
    "colab": {
     "referenced_widgets": [
      "9a9f28299d0142dbb0a4c053f6107ade"
     ]
    },
    "id": "7940d4c0",
    "outputId": "cb4f93da-1319-4fe3-f645-5e8e2eaa84f4",
    "scrolled": true
   },
   "outputs": [
    {
     "data": {
      "application/vnd.jupyter.widget-view+json": {
       "model_id": "9a9f28299d0142dbb0a4c053f6107ade",
       "version_major": 2,
       "version_minor": 0
      },
      "text/plain": [
       "processing...:   0%|          | 0/8528 [00:00<?, ?it/s]"
      ]
     },
     "metadata": {},
     "output_type": "display_data"
    }
   ],
   "source": [
    "# pip install opencv-python\n",
    "import cv2\n",
    "from tqdm.auto import tqdm\n",
    "\n",
    "tbl_init = True\n",
    "\n",
    "for k in tqdm(range(len(fins)), desc=\"processing...\"):\n",
    "    fin = fins[k] # loop through each ECG record # 0: Normal example 4: AF example\n",
    "    rcd = scipy.io.loadmat(mat_path+'/'+fin+'.mat')\n",
    "    rcd1d = rcd['val'].flatten() # 1D array\n",
    "    sub_rcd_len = 9*300\n",
    "    n_sub = len(rcd1d)//sub_rcd_len\n",
    "    sub_rcds = [rcd1d[i*sub_rcd_len:(i+1)*sub_rcd_len] for i in range(n_sub)] # split into equal length pieces\n",
    "\n",
    "    # loop though each sub record pieces\n",
    "    for i, sub_rcd in enumerate(sub_rcds):\n",
    "        #print(f\"fin {fin}, piece {i + 1}: {len(sub_rcd)}\")\n",
    "\n",
    "        ### find label l and group g\n",
    "        l = label.loc[label['fin']==fin, 'label'].values[0]\n",
    "        g = label.loc[label['fin']==fin, 'g'].values[0]\n",
    "\n",
    "        ### add to one dataframe for 1d conv ##\n",
    "        if tbl_init:\n",
    "            tbl = np.append(sub_rcd, [l, g, fin, i])\n",
    "            tbl_init = False\n",
    "        else:\n",
    "            tbl = np.vstack((tbl, np.append(sub_rcd, [l, g, fin, i]) ))\n",
    "\n",
    "\n",
    "        ### convert to 2d image for 2d conv ###\n",
    "        if not os.path.exists('./data/image/'+str(g)): os.mkdir('./data/image/'+str(g)) # create model group folder\n",
    "        if not os.path.exists('./data/image/'+str(g)+'/'+str(l)): os.mkdir('./data/image/'+str(g)+'/'+str(l)) # create outcome label folder\n",
    "        im_path = './data/image/'+str(g)+'/'+str(l)+'/'\n",
    "\n",
    "        w_pixel = sub_rcd_len\n",
    "        h_pixel = 100\n",
    "        dpi = 100\n",
    "        w_fig = w_pixel/dpi\n",
    "        h_fig = h_pixel/dpi\n",
    "        plt.figure(figsize=(w_fig,h_fig))\n",
    "        plt.plot(sub_rcd)\n",
    "        plt.axis('off')\n",
    "\n",
    "        plt.savefig(im_path+str(fin)+'_'+str(i)+'.jpg', dpi=dpi) # temporarily save as RGB\n",
    "        plt.close();\n",
    "        # Load the saved image and convert to grayscale\n",
    "        image = cv2.imread(im_path+str(fin)+'_'+str(i)+'.jpg', cv2.IMREAD_GRAYSCALE)\n",
    "#         # Display the grayscale image (optional)\n",
    "#         plt.imshow(image, cmap='gray')\n",
    "#         plt.axis('off')  # Turn off axis labels\n",
    "#         plt.show();\n",
    "        # Save the grayscale image\n",
    "        cv2.imwrite(im_path+str(fin)+'_'+str(i)+'.jpg', image)\n"
   ]
  },
  {
   "cell_type": "code",
   "execution_count": null,
   "metadata": {
    "id": "991f4c7c"
   },
   "outputs": [],
   "source": [
    "pd.DataFrame(tbl).to_csv(\"./data/data_9s.csv\",index=False)"
   ]
  },
  {
   "cell_type": "markdown",
   "metadata": {
    "id": "3d875912"
   },
   "source": [
    "### Preprocess image version ECG data"
   ]
  },
  {
   "cell_type": "code",
   "execution_count": 1,
   "metadata": {
    "id": "a7b1e3ad",
    "outputId": "e1a7eb8f-a9fd-4e85-c7a1-557dfdbead91"
   },
   "outputs": [],
   "source": [
    "# #\n",
    "# fl = os.listdir(mat_path)\n",
    "# fins = [re.sub(\".mat\",\"\",fin) for fin in fl if fin.endswith('.mat')]\n",
    "# label = pd.read_csv('./training2017/REFERENCE.csv')\n",
    "\n",
    "# for fin in fins:\n",
    "#     # load in record of ECG one by one\n",
    "#     rcd = scipy.io.loadmat(mat_path+'/'+fin+'.mat')\n",
    "#     rcd2d = rcd['val'] # 2D array\n",
    "#     rcd1d = rcd2d.flatten() # 1D array\n",
    "\n",
    "#     # find corresponding label\n",
    "#     l = label.loc[label['fin']==fin, 'label'].values[0]\n",
    "#     img_path_l = img_path+'/'+l\n",
    "#     if not os.path.exists(img_path_l):\n",
    "#         os.mkdir(img_path_l)\n",
    "#     # create RGB image and save by label\n",
    "#     plt.figure(figsize=(30,5))\n",
    "#     plt.plot(rcd1d)\n",
    "#     plt.axis('off');\n",
    "#     plt.savefig(img_path_l+'/'+fin+'.png', dpi=100)\n",
    "\n",
    "\n",
    "# #     # convert to grayscale image\n",
    "#     image = Image.open(img_path+'/'+fin+'.png').convert(\"L\")\n",
    "#     arr = np.asarray(image)\n",
    "#     plt.figure(figsize=(50,5))\n",
    "#     plt.imshow(arr, cmap='gray', vmin=0, vmax=255)\n",
    "#     plt.axis('off');\n",
    "#     plt.savefig(img_path+'/'+fin+'.png', dpi=100)"
   ]
  },
  {
   "cell_type": "code",
   "execution_count": null,
   "metadata": {},
   "outputs": [],
   "source": []
  }
 ],
 "metadata": {
  "colab": {
   "provenance": []
  },
  "kernelspec": {
   "display_name": "Python 3",
   "language": "python",
   "name": "python3"
  },
  "language_info": {
   "codemirror_mode": {
    "name": "ipython",
    "version": 3
   },
   "file_extension": ".py",
   "mimetype": "text/x-python",
   "name": "python",
   "nbconvert_exporter": "python",
   "pygments_lexer": "ipython3",
   "version": "3.8.8"
  }
 },
 "nbformat": 4,
 "nbformat_minor": 5
}
